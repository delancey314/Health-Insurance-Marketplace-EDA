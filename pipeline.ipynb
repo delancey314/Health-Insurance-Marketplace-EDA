{
 "cells": [
  {
   "cell_type": "code",
   "execution_count": 1,
   "metadata": {},
   "outputs": [],
   "source": [
    "import pandas as pd \n",
    "import collections\n",
    "import numpy as np\n"
   ]
  },
  {
   "cell_type": "code",
   "execution_count": 2,
   "metadata": {},
   "outputs": [],
   "source": [
    "cost=pd.read_csv('data/2014/Benefits_Cost_Sharing_PUF.csv',low_memory=False)\n"
   ]
  },
  {
   "cell_type": "code",
   "execution_count": 3,
   "metadata": {},
   "outputs": [],
   "source": [
    "headers=list(cost.columns)\n",
    "uniques=[]\n",
    "for header in headers:\n",
    "    col=cost[header]\n",
    "    uniques.append(col.unique())"
   ]
  },
  {
   "cell_type": "code",
   "execution_count": 4,
   "metadata": {},
   "outputs": [
    {
     "name": "stdout",
     "output_type": "stream",
     "text": [
      "['BusinessYear', 'StateCode', 'IssuerId', 'SourceName', 'VersionNum', 'ImportDate', 'IssuerId2', 'StateCode2', 'StandardComponentId', 'PlanId', 'BenefitName', 'CopayInnTier1', 'CopayInnTier2', 'CopayOutofNet', 'CoinsInnTier1', 'CoinsInnTier2', 'CoinsOutofNet', 'IsEHB', 'IsStateMandate', 'IsCovered', 'QuantLimitOnSvc', 'LimitQty', 'LimitUnit', 'MinimumStay', 'Exclusions', 'Explanation', 'EHBVarReason', 'IsSubjToDedTier1', 'IsSubjToDedTier2', 'IsExclFromInnMOOP', 'IsExclFromOonMOOP', 'RowNumber']\n"
     ]
    }
   ],
   "source": [
    "uniquedict=dict(zip(headers,uniques))\n",
    "print(headers)"
   ]
  },
  {
   "cell_type": "code",
   "execution_count": 6,
   "metadata": {},
   "outputs": [
    {
     "name": "stdout",
     "output_type": "stream",
     "text": [
      "['AK' 'AL' 'AZ' 'FL' 'GA' 'IN' 'LA' 'MO' 'MS' 'NC' 'ND' 'NJ' 'OK' 'PA'\n",
      " 'SC' 'TN' 'TX' 'WI' 'WY' 'AR' 'DE' 'IL' 'KS' 'ME' 'MI' 'MT' 'NH' 'NM'\n",
      " 'VA' 'WV' 'IA' 'ID' 'NE' 'OH' 'SD' 'UT'] <class 'numpy.ndarray'>\n"
     ]
    }
   ],
   "source": [
    "attr=uniquedict[\"StateCode\"]\n",
    "#attr.sort()\n",
    "print(attr,type(attr))"
   ]
  },
  {
   "cell_type": "code",
   "execution_count": 7,
   "metadata": {},
   "outputs": [
    {
     "data": {
      "text/plain": [
       "array([['AK'],\n",
       "       ['AL'],\n",
       "       ['AZ'],\n",
       "       ['FL'],\n",
       "       ['GA'],\n",
       "       ['IN'],\n",
       "       ['LA'],\n",
       "       ['MO'],\n",
       "       ['MS'],\n",
       "       ['NC'],\n",
       "       ['ND'],\n",
       "       ['NJ'],\n",
       "       ['OK'],\n",
       "       ['PA'],\n",
       "       ['SC'],\n",
       "       ['TN'],\n",
       "       ['TX'],\n",
       "       ['WI'],\n",
       "       ['WY'],\n",
       "       ['AR'],\n",
       "       ['DE'],\n",
       "       ['IL'],\n",
       "       ['KS'],\n",
       "       ['ME'],\n",
       "       ['MI'],\n",
       "       ['MT'],\n",
       "       ['NH'],\n",
       "       ['NM'],\n",
       "       ['VA'],\n",
       "       ['WV'],\n",
       "       ['IA'],\n",
       "       ['ID'],\n",
       "       ['NE'],\n",
       "       ['OH'],\n",
       "       ['SD'],\n",
       "       ['UT']], dtype=object)"
      ]
     },
     "execution_count": 7,
     "metadata": {},
     "output_type": "execute_result"
    }
   ],
   "source": [
    "np.sort(attr) \n",
    "attr.reshape(-1,1)"
   ]
  },
  {
   "cell_type": "code",
   "execution_count": null,
   "metadata": {},
   "outputs": [],
   "source": [
    "  \n"
   ]
  }
 ],
 "metadata": {
  "kernelspec": {
   "display_name": "Python 3",
   "language": "python",
   "name": "python3"
  },
  "language_info": {
   "codemirror_mode": {
    "name": "ipython",
    "version": 3
   },
   "file_extension": ".py",
   "mimetype": "text/x-python",
   "name": "python",
   "nbconvert_exporter": "python",
   "pygments_lexer": "ipython3",
   "version": "3.7.3"
  }
 },
 "nbformat": 4,
 "nbformat_minor": 2
}
