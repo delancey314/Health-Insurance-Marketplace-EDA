{
 "cells": [
  {
   "cell_type": "code",
   "execution_count": 1,
   "metadata": {},
   "outputs": [],
   "source": [
    "import pandas as pd\n"
   ]
  },
  {
   "cell_type": "code",
   "execution_count": 53,
   "metadata": {},
   "outputs": [],
   "source": [
    "\n",
    "\n",
    "#cost_all= pd.read_csv('data/merged/cost_all.csv',low_memory=False)\n",
    "rules_all=pd.read_csv('data/merged/rules_all.csv',low_memory=False)\n",
    "network_all=pd.read_csv('data/merged/network_all.csv',low_memory=False)\n",
    "#attr_all=pd.read_csv('data/merged/attr_all.csv',low_memory=False)\n",
    "#rate_all=pd.read_csv('data/merged/rate_all.csv',low_memory=False)\n",
    "#area_all=pd.read_csv('data/merged/area_all.csv',low_memory=False)\n",
    "#cross_all=pd.read_csv('data/merged/cross_all.csv',low_memory=False)\n",
    "#machine16=pd.read_csv('data/merged/machine16.csv',low_memory=False)\n",
    "\n"
   ]
  },
  {
   "cell_type": "code",
   "execution_count": 54,
   "metadata": {},
   "outputs": [],
   "source": [
    "rules_all.sort_values(\"StandardComponentId\", inplace=True) \n",
    "rules_all.drop_duplicates(keep=False,inplace=True) "
   ]
  },
  {
   "cell_type": "code",
   "execution_count": 55,
   "metadata": {},
   "outputs": [
    {
     "name": "stdout",
     "output_type": "stream",
     "text": [
      "<class 'pandas.core.frame.DataFrame'>\n",
      "Int64Index: 18107 entries, 12747 to 10989\n",
      "Data columns (total 18 columns):\n",
      "BusinessYear                             18107 non-null int64\n",
      "StateCode                                18107 non-null object\n",
      "IssuerId                                 18107 non-null int64\n",
      "TIN                                      18107 non-null object\n",
      "ProductId                                16424 non-null object\n",
      "StandardComponentId                      17095 non-null object\n",
      "EnrolleeContractRateDeterminationRule    17860 non-null object\n",
      "TwoParentFamilyMaxDependentsRule         17568 non-null object\n",
      "SingleParentFamilyMaxDependentsRule      17568 non-null object\n",
      "DependentMaximumAgRule                   17924 non-null object\n",
      "ChildrenOnlyContractMaxChildrenRule      17438 non-null object\n",
      "DomesticPartnerAsSpouseIndicator         17597 non-null object\n",
      "SameSexPartnerAsSpouseIndicator          17597 non-null object\n",
      "AgeDeterminationRule                     17696 non-null object\n",
      "MinimumTobaccoFreeMonthsRule             17703 non-null object\n",
      "CohabitationRule                         17752 non-null object\n",
      "RowNumber                                18107 non-null int64\n",
      "DentalOnlyPlan                           5909 non-null object\n",
      "dtypes: int64(3), object(15)\n",
      "memory usage: 2.6+ MB\n"
     ]
    }
   ],
   "source": [
    "rules_drop=['SourceName','VersionNum','ImportDate','IssuerId2',\t'MarketCoverage','DentalOnly','Unnamed: 0','RowNumber']\n",
    "rules_all.drop(rule1, inplace = True)\n",
    "rules_cleaned=rules_all[rules_all.DentalOnlyPlan != \"Yes\"]\n",
    "rules_cleaned.reset_index()\n",
    "rules_cleaned.info()"
   ]
  },
  {
   "cell_type": "code",
   "execution_count": 52,
   "metadata": {},
   "outputs": [
    {
     "data": {
      "text/plain": [
       "12747    10\n",
       "12748    10\n",
       "7992     10\n",
       "20337    10\n",
       "7993     10\n",
       "20338    10\n",
       "20339    10\n",
       "20340    10\n",
       "20341    10\n",
       "20342    10\n",
       "7994     10\n",
       "20343    10\n",
       "20344    10\n",
       "20345    10\n",
       "20346    10\n",
       "7995     10\n",
       "20347    10\n",
       "20348    10\n",
       "7996     10\n",
       "20349    10\n",
       "20350    10\n",
       "20351    10\n",
       "20352    10\n",
       "20353    10\n",
       "20354    10\n",
       "20355    10\n",
       "20356    10\n",
       "7997     10\n",
       "20357    10\n",
       "20358    10\n",
       "         ..\n",
       "10914    10\n",
       "10915    10\n",
       "10922    10\n",
       "10927    10\n",
       "10930    10\n",
       "10931    10\n",
       "10932    11\n",
       "10933    10\n",
       "10934    10\n",
       "10935    10\n",
       "10936    10\n",
       "10945    10\n",
       "10946    10\n",
       "10947    10\n",
       "10948    10\n",
       "10949    10\n",
       "10950    11\n",
       "10951    10\n",
       "10962    10\n",
       "10963    10\n",
       "10964    10\n",
       "10973    10\n",
       "10974    10\n",
       "10983    10\n",
       "10984    11\n",
       "10985    12\n",
       "10986    13\n",
       "10987    14\n",
       "10988    15\n",
       "10989    16\n",
       "Name: RowNumber, Length: 18107, dtype: int64"
      ]
     },
     "execution_count": 52,
     "metadata": {},
     "output_type": "execute_result"
    }
   ],
   "source": [
    "\n",
    "\n"
   ]
  },
  {
   "cell_type": "code",
   "execution_count": 56,
   "metadata": {},
   "outputs": [
    {
     "name": "stdout",
     "output_type": "stream",
     "text": [
      "<class 'pandas.core.frame.DataFrame'>\n",
      "Int64Index: 21085 entries, 5723 to 10989\n",
      "Data columns (total 18 columns):\n",
      "BusinessYear                             21085 non-null int64\n",
      "StateCode                                21085 non-null object\n",
      "IssuerId                                 21085 non-null int64\n",
      "TIN                                      21085 non-null object\n",
      "ProductId                                19402 non-null object\n",
      "StandardComponentId                      20073 non-null object\n",
      "EnrolleeContractRateDeterminationRule    20838 non-null object\n",
      "TwoParentFamilyMaxDependentsRule         20546 non-null object\n",
      "SingleParentFamilyMaxDependentsRule      20546 non-null object\n",
      "DependentMaximumAgRule                   20902 non-null object\n",
      "ChildrenOnlyContractMaxChildrenRule      20416 non-null object\n",
      "DomesticPartnerAsSpouseIndicator         20575 non-null object\n",
      "SameSexPartnerAsSpouseIndicator          20575 non-null object\n",
      "AgeDeterminationRule                     20674 non-null object\n",
      "MinimumTobaccoFreeMonthsRule             20681 non-null object\n",
      "CohabitationRule                         20730 non-null object\n",
      "RowNumber                                21085 non-null int64\n",
      "DentalOnlyPlan                           8887 non-null object\n",
      "dtypes: int64(3), object(15)\n",
      "memory usage: 3.1+ MB\n"
     ]
    }
   ],
   "source": [
    "rules_all.info()"
   ]
  },
  {
   "cell_type": "code",
   "execution_count": null,
   "metadata": {},
   "outputs": [],
   "source": []
  }
 ],
 "metadata": {
  "kernelspec": {
   "display_name": "Python 3",
   "language": "python",
   "name": "python3"
  },
  "language_info": {
   "codemirror_mode": {
    "name": "ipython",
    "version": 3
   },
   "file_extension": ".py",
   "mimetype": "text/x-python",
   "name": "python",
   "nbconvert_exporter": "python",
   "pygments_lexer": "ipython3",
   "version": "3.7.3"
  }
 },
 "nbformat": 4,
 "nbformat_minor": 2
}
